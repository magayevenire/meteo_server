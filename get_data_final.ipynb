{
  "cells": [
    {
      "attachments": {},
      "cell_type": "markdown",
      "metadata": {
        "id": "6IBpmxAdG5cp"
      },
      "source": []
    },
    {
      "cell_type": "code",
      "execution_count": 47,
      "metadata": {},
      "outputs": [],
      "source": [
        "import findspark \n",
        "findspark.init()"
      ]
    },
    {
      "cell_type": "code",
      "execution_count": 48,
      "metadata": {
        "id": "2IjJWetB0fPw"
      },
      "outputs": [],
      "source": [
        "from pyspark.sql import SparkSession\n",
        "from pyspark.sql.functions import current_timestamp, expr\n",
        "from pyspark.sql.types import StructType, StructField, StringType, DoubleType ,ArrayType ,LongType ,IntegerType\n",
        "import mysql.connector\n",
        "import os \n",
        "from configparser import ConfigParser\n",
        "import requests\n",
        "from pyspark.sql import SparkSession\n",
        "from pyspark.sql.functions import udf, col, explode\n",
        "from pyspark.sql import Row\n",
        "import json\n",
        "from datetime import datetime"
      ]
    },
    {
      "cell_type": "code",
      "execution_count": 49,
      "metadata": {},
      "outputs": [
        {
          "data": {
            "text/plain": [
              "['./Config.ini']"
            ]
          },
          "execution_count": 49,
          "metadata": {},
          "output_type": "execute_result"
        }
      ],
      "source": [
        "config = ConfigParser()\n",
        "config.read('./Config.ini')"
      ]
    },
    {
      "cell_type": "code",
      "execution_count": 50,
      "metadata": {
        "id": "0MKPDciS0hPS"
      },
      "outputs": [],
      "source": [
        "spark = SparkSession.builder \\\n",
        "    .appName(\"Data_Pipeline\") \\\n",
        "    .config(\"spark.jars\", \"mysql-connector-java-5.1.49.jar\")\\\n",
        "    .getOrCreate()"
      ]
    },
    {
      "cell_type": "code",
      "execution_count": 51,
      "metadata": {},
      "outputs": [],
      "source": [
        "APIKEY = config.get(\"openweathermap\", \"APIKEY\")\n",
        "URL = config.get(\"openweathermap\", \"URL\")\n",
        "\n",
        "city = {\n",
        "  \"name\": \"Dakar\",\n",
        "  \"lat\": 14.67,\n",
        "  \"lon\": -17.44\n",
        "}"
      ]
    },
    {
      "cell_type": "code",
      "execution_count": 52,
      "metadata": {
        "colab": {
          "base_uri": "https://localhost:8080/"
        },
        "id": "0QiozKDPvb55",
        "outputId": "86fc92ef-c85a-4290-f3e0-b117dbbe659e"
      },
      "outputs": [],
      "source": [
        "\n",
        "headers = {\n",
        "  'content-type': \"application/json\"\n",
        "}\n",
        "body = json.dumps({})\n",
        "RestApiRequestRow = Row(\"verb\", \"url\", \"headers\", \"body\")\n",
        "api_url = f\"{URL}?lat={city['lat']}&lon={city['lon']}&exclude=hourly,daily&appid={APIKEY}&units=metric\"\n",
        "# api_url = \"https://api.openweathermap.org/data/2.5/onecall?lat=14.497401&lon=-14.452362&exclude=hourly,daily&appid=101098fb7b42c64a657c60649632e063\"\n",
        "request_df = spark.createDataFrame([\n",
        "  RestApiRequestRow(\"get\", api_url, headers, body)\n",
        "])\n",
        "\n"
      ]
    },
    {
      "cell_type": "code",
      "execution_count": 53,
      "metadata": {
        "id": "QXLvH4Rew_rn"
      },
      "outputs": [],
      "source": [
        "schema = StructType([\n",
        "\n",
        "  \n",
        "    StructField(\"current\", StructType([\n",
        "        StructField(\"dt\", LongType(), True),\n",
        "\n",
        "        StructField(\"temp\", DoubleType(), True),\n",
        "\n",
        "        StructField(\"humidity\", IntegerType(), True),\n",
        "\n",
        "        StructField(\"visibility\", IntegerType(), True),\n",
        "        StructField(\"wind_speed\", DoubleType(), True),\n",
        "\n",
        "    ]), True)\n",
        "])"
      ]
    },
    {
      "cell_type": "code",
      "execution_count": 54,
      "metadata": {
        "id": "8Bhul3YTxLB2"
      },
      "outputs": [],
      "source": [
        "def executeRestApi(verb, url, headers, body):\n",
        "  headers = {\n",
        "      'content-type': \"application/json\"\n",
        "  }\n",
        "  res = None\n",
        "  # Make API request, get response object back, create dataframe from above schema.\n",
        "  try:\n",
        "    if verb == \"get\":\n",
        "      res = requests.get(url, data=body, headers=headers)\n",
        "    else:\n",
        "      res = requests.post(url, data=body, headers=headers)\n",
        "  except Exception as e:\n",
        "    return e\n",
        "  if res != None and res.status_code == 200:\n",
        "    return json.loads(res.text)\n",
        "  return None"
      ]
    },
    {
      "cell_type": "code",
      "execution_count": 55,
      "metadata": {
        "id": "Owp0cCnPxf_h"
      },
      "outputs": [],
      "source": [
        "udf_executeRestApi = udf(executeRestApi, schema)"
      ]
    },
    {
      "cell_type": "code",
      "execution_count": 56,
      "metadata": {
        "id": "shePAj6yxUI9"
      },
      "outputs": [],
      "source": [
        "result_df = request_df \\\n",
        "             .withColumn(\"data\", udf_executeRestApi(col(\"verb\"), col(\"url\"), col(\"headers\"), col(\"body\")))\n"
      ]
    },
    {
      "cell_type": "code",
      "execution_count": 57,
      "metadata": {
        "colab": {
          "base_uri": "https://localhost:8080/"
        },
        "id": "sZ_bHvuHxx8L",
        "outputId": "ebe3392b-17a9-451a-e7a4-bb66f81c001f"
      },
      "outputs": [],
      "source": [
        "\n",
        "from pyspark.sql.functions import split\n",
        "from pyspark.sql.functions import from_json ,to_json\n",
        "from pyspark.sql.types import MapType,StringType\n",
        "\n",
        "current_schema=StructType([\n",
        "StructField(\"dt\", LongType(), True),\n",
        "\n",
        "        StructField(\"temp\", DoubleType(), True),\n",
        "\n",
        "        StructField(\"humidity\", IntegerType(), True),\n",
        "\n",
        "        StructField(\"wind_speed\", DoubleType(), True),\n",
        "])\n",
        "\n",
        "result_df_data = request_df.withColumn(\"data\", udf_executeRestApi(col(\"verb\"), col(\"url\"), col(\"headers\"), col(\"body\")))\\\n",
        ".withColumn(\"data\",to_json(col(\"data\")))\\\n",
        ".withColumn(\"data\", from_json(\"data\", schema))\\\n",
        ".select( col('data.*'))\\\n",
        ".withColumn(\"current\",to_json(col(\"current\")))\\\n",
        ".withColumn(\"current\", from_json(\"current\", current_schema))\\\n",
        ".select( col('current.*'))\\\n",
        ".withColumnRenamed('dt', 'timestamp')\\\n",
        ".withColumnRenamed('temp', 'temperature')\n"
      ]
    },
    {
      "cell_type": "code",
      "execution_count": 58,
      "metadata": {},
      "outputs": [
        {
          "data": {
            "text/plain": [
              "[Row(timestamp=1686763303, temperature=28.99, humidity=65, wind_speed=3.09)]"
            ]
          },
          "execution_count": 58,
          "metadata": {},
          "output_type": "execute_result"
        }
      ],
      "source": [
        "row = result_df_data\\\n",
        "  .collect()\n",
        "row"
      ]
    },
    {
      "cell_type": "code",
      "execution_count": 59,
      "metadata": {},
      "outputs": [
        {
          "name": "stdout",
          "output_type": "stream",
          "text": [
            "timestamp 2023-06-14 17:21:43\n",
            "temperature 28.99\n",
            "humidity 65\n",
            "wind_speed 3.09\n"
          ]
        }
      ],
      "source": [
        "timestamp = datetime.utcfromtimestamp(row[0][0]).strftime('%Y-%m-%d %H:%M:%S')\n",
        "temperature = row[0][1]\n",
        "humidity = row[0][2]\n",
        "wind_speed = row[0][3]\n",
        "\n",
        "print(\"timestamp\", timestamp)\n",
        "print(\"temperature\", temperature)\n",
        "print(\"humidity\", humidity)\n",
        "print(\"wind_speed\", wind_speed)"
      ]
    },
    {
      "cell_type": "code",
      "execution_count": 60,
      "metadata": {},
      "outputs": [],
      "source": [
        "url = config.get('mysql', 'host')\n",
        "user = config.get('mysql', 'user')\n",
        "pwd  = config.get('mysql', 'password')\n",
        "db =  config.get('mysql', 'database')\n",
        "pt = config.get('mysql', 'port')"
      ]
    },
    {
      "cell_type": "code",
      "execution_count": 61,
      "metadata": {},
      "outputs": [
        {
          "name": "stdout",
          "output_type": "stream",
          "text": [
            "1 Record inserted successfully into data table\n"
          ]
        }
      ],
      "source": [
        "# Etablir une connexion à MySQL\n",
        "try:\n",
        "  conn = mysql.connector.connect(user= user, database=db, password=pwd, host=url, port=pt)\n",
        "  cursor = conn.cursor()\n",
        "  query = f\"\"\"\n",
        "  INSERT INTO `data` (`city`, `temperature`, `humidity`, `windSpeed`, `timestamp`) \n",
        "  VALUES (\n",
        "    'Dakar', \n",
        "    '{temperature}', \n",
        "    '{humidity}', \n",
        "    '{wind_speed}', \n",
        "    '{timestamp}'\n",
        "  )\"\"\"\n",
        "\n",
        "  cursor.execute(query)\n",
        "  conn.commit()\n",
        "  print(cursor.rowcount, \"Record inserted successfully into data table\")\n",
        "  conn.close()\n",
        "except mysql.connector.Error as error:\n",
        "  print(\"Failed to insert record into Laptop table {}\".format(error))\n",
        "\n",
        "finally:\n",
        "  if conn.is_connected():\n",
        "    conn.close()\n",
        "    print(\"MySQL connection is closed\")"
      ]
    },
    {
      "cell_type": "code",
      "execution_count": 62,
      "metadata": {
        "colab": {
          "base_uri": "https://localhost:8080/",
          "height": 1000
        },
        "id": "46aPkfwiyGke",
        "outputId": "fa5a9388-3b16-4994-a316-bd779f3e13cf"
      },
      "outputs": [],
      "source": [
        "\n",
        "\n",
        "# result_df_data.write \\\n",
        "#   .format(\"jdbc\") \\\n",
        "#   .option(\"driver\",\"com.mysql.cj.jdbc.Driver\") \\\n",
        "#   .option(\"url\", \"jdbc:mysql://172.106.0.54:19320/meteodb\") \\\n",
        "#   .option(\"dbtable\", \"employee\") \\\n",
        "#   .option(\"user\", \"admin\") \\\n",
        "#   .option(\"password\", \"ixJQgvsI\") \\\n",
        "#   .save()"
      ]
    }
  ],
  "metadata": {
    "colab": {
      "provenance": []
    },
    "kernelspec": {
      "display_name": "Python 3 (ipykernel)",
      "language": "python",
      "name": "python3"
    },
    "language_info": {
      "codemirror_mode": {
        "name": "ipython",
        "version": 3
      },
      "file_extension": ".py",
      "mimetype": "text/x-python",
      "name": "python",
      "nbconvert_exporter": "python",
      "pygments_lexer": "ipython3",
      "version": "3.10.1"
    }
  },
  "nbformat": 4,
  "nbformat_minor": 0
}
